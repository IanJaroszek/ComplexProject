{
 "cells": [
  {
   "cell_type": "code",
   "execution_count": 1,
   "metadata": {},
   "outputs": [],
   "source": [
    "from __future__ import print_function, division\n",
    "\n",
    "%matplotlib inline\n",
    "%precision 3\n",
    "\n",
    "import warnings\n",
    "warnings.filterwarnings('ignore')\n",
    "\n",
    "import numpy as np\n",
    "import matplotlib.pyplot as plt\n",
    "from math import ceil\n",
    "\n",
    "import thinkplot\n",
    "from thinkstats2 import Cdf\n",
    "from thinkstats2 import RandomSeed\n",
    "\n",
    "from matplotlib import rc\n",
    "rc('animation', html='html5')\n",
    "\n",
    "from Cell2D import Cell2D, Cell2DViewer\n",
    "\n",
    "def make_locs(n, m):\n",
    "    \"\"\"Makes array where each row is an index in an `n` by `m` grid.\n",
    "    \n",
    "    n: int number of rows\n",
    "    m: int number of cols\n",
    "    \n",
    "    returns: NumPy array\n",
    "    \"\"\"\n",
    "    left = np.repeat(np.arange(m), n)\n",
    "    right = np.tile(np.arange(n), m)\n",
    "    return np.transpose([left, right])\n",
    "\n",
    "def make_visible_locs(vision):\n",
    "    \"\"\"Computes the kernel of visible cells.\n",
    "        \n",
    "    vision: int distance\n",
    "    \"\"\"\n",
    "    def make_array(d):\n",
    "        \"\"\"Generates visible cells with increasing distance.\"\"\"\n",
    "        a = np.array([[-d, 0], [d, 0], [0, -d], [0, d]])\n",
    "        np.random.shuffle(a)\n",
    "        return a\n",
    "                     \n",
    "    arrays = [make_array(d) for d in range(1, vision+1)]\n",
    "    return np.vstack(arrays)"
   ]
  },
  {
   "cell_type": "code",
   "execution_count": 2,
   "metadata": {},
   "outputs": [],
   "source": [
    "class Sugarscape(Cell2D):\n",
    "    \"\"\"Represents an Epstein-Axtell Sugarscape.\"\"\"\n",
    "    \n",
    "    def __init__(self, n, **params):\n",
    "        \"\"\"Initializes the attributes.\n",
    "\n",
    "        n: number of rows and columns\n",
    "        params: dictionary of parameters\n",
    "        \"\"\"\n",
    "        self.n = n\n",
    "        self.params = params\n",
    "        \n",
    "        # track variables\n",
    "        self.agent_count_seq = []\n",
    "        self.rabbit_count_seq = []\n",
    "        self.fox_count_seq = []\n",
    "        self.grass_count_seq = []\n",
    "    \n",
    "        # make the capacity array\n",
    "        self.capacity = self.make_capacity()\n",
    "        \n",
    "        # initially all cells are at capacity\n",
    "        self.array = self.capacity.copy()\n",
    "        \n",
    "        # make the agents\n",
    "        self.make_agents()\n",
    "        \n",
    "    def make_capacity(self):\n",
    "        a = np.zeros((self.n, self.n), np.float)\n",
    "        a[True] = self.params.get('grass_capacity',2)\n",
    "        return a\n",
    "        \n",
    "    def make_agents(self):\n",
    "        \"\"\"Makes the agents.\"\"\"\n",
    "        \n",
    "        # determine where the agents start and generate locations\n",
    "        n, m = self.params.get('starting_box', self.array.shape)\n",
    "        locs = make_locs(n, m)\n",
    "        np.random.shuffle(locs)\n",
    "\n",
    "        # make the agents\n",
    "        num_rabbits = self.params.get('num_rabbits', 75)\n",
    "        num_foxs = self.params.get('num_foxs', 10)\n",
    "        self.agents = [Rabbit(locs[i], self.params) for i in range(num_rabbits)]+[Fox(locs[i+num_rabbits], self.params) for i in range(num_foxs)]\n",
    "        \n",
    "        # keep track of which cells are occupied\n",
    "        self.occupied = set(agent.loc for agent in self.agents)\n",
    "            \n",
    "    def grow(self):\n",
    "        \"\"\"Adds grass to all cells and caps them by capacity.\"\"\"\n",
    "        grow_rate = self.params.get('grow_rate', 0.1)\n",
    "        self.array = np.minimum(self.array + grow_rate, self.capacity)\n",
    "        \n",
    "    def reproduce(self,mult_rabbits,mult_foxs,pop_rabbits,pop_foxs):\n",
    "        rate_rabbits = ceil(mult_rabbits*pop_rabbits)\n",
    "        rate_foxs = ceil(mult_foxs*pop_foxs)\n",
    "        for a in range(0,rate_rabbits):\n",
    "            self.add_rabbit()    \n",
    "        for b in range(0,rate_foxs):\n",
    "            self.add_fox()\n",
    "        \n",
    "    def look_around(self, center, vision, carnivore):\n",
    "        \"\"\"Finds the visible cell with the most sugar.\n",
    "        \n",
    "        center: tuple, coordinates of the center cell\n",
    "        vision: int, maximum visible distance\n",
    "        \n",
    "        returns: tuple, coordinates of best cell\n",
    "        \"\"\"\n",
    "        # find all visible cells\n",
    "        locs = make_visible_locs(vision)\n",
    "        locs = (locs + center) % self.n\n",
    "        \n",
    "        # convert rows of the array to tuples\n",
    "        locs = [tuple(loc) for loc in locs]\n",
    "        \n",
    "        # select unoccupied cells\n",
    "        if (carnivore):\n",
    "            food = [agent for agent in self.agents if type(agent) is Rabbit]\n",
    "            empty_locs = [animal.loc for animal in food if animal.loc in locs]\n",
    "        else:\n",
    "            empty_locs = [loc for loc in locs if loc not in self.occupied]\n",
    "        \n",
    "        # if all visible cells are occupied, stay put\n",
    "        if len(empty_locs) == 0:\n",
    "            return center\n",
    "        \n",
    "        # look up the sugar level in each cell\n",
    "        t = [self.array[loc] for loc in empty_locs]\n",
    "        \n",
    "        # find the best one and return it\n",
    "        # (in case of tie, argmax returns the first, which\n",
    "        # is the closest)\n",
    "        i = np.argmax(t)\n",
    "        return empty_locs[i]\n",
    "    \n",
    "    def harvest(self, loc):\n",
    "        \"\"\"Removes and returns the sugar from `loc`.\n",
    "        \n",
    "        loc: tuple coordinates\n",
    "        \"\"\"\n",
    "        sugar = self.array[loc]\n",
    "        self.array[loc] = 0\n",
    "        return sugar\n",
    "    \n",
    "    def eat(self, loc):\n",
    "        agent = next(agent for agent in self.agents if agent.loc is loc)\n",
    "        self.agents.remove(agent)\n",
    "        if (loc in self.occupied):\n",
    "            self.occupied.remove(loc)\n",
    "        meat_bonus = self.params.get('meat_bonus', 1)\n",
    "        return agent.grass+meat_bonus\n",
    "    \n",
    "    def step(self):\n",
    "        \"\"\"Executes one time step.\"\"\"\n",
    "        \n",
    "        # loop through the agents in random order\n",
    "        random_order = np.random.permutation(self.agents)\n",
    "        for agent in random_order:\n",
    "            if (agent.loc in self.occupied and agent in self.agents):\n",
    "                # mark the current cell unoccupied\n",
    "                self.occupied.remove(agent.loc)\n",
    "            \n",
    "                # execute one step\n",
    "                agent.step(self)\n",
    "\n",
    "                # if the agent is dead, remove from the list\n",
    "                if agent.is_starving() or agent.is_old():\n",
    "                    self.agents.remove(agent)\n",
    "                else:\n",
    "                    # otherwise mark its cell occupied\n",
    "                    self.occupied.add(agent.loc)\n",
    "\n",
    "        # update the time series\n",
    "        self.agent_count_seq.append(len(self.agents))\n",
    "        rabbit_pop = len([agent for agent in self.agents if type(agent) is Rabbit])\n",
    "        fox_pop = len([agent for agent in self.agents if type(agent) is Fox])\n",
    "        self.rabbit_count_seq.append(rabbit_pop)\n",
    "        self.fox_count_seq.append(fox_pop)\n",
    "        \n",
    "        \n",
    "        # grow back some sugar\n",
    "        self.grow()\n",
    "        self.grass_count_seq.append(sum(map(sum, self.array)))\n",
    "        rabbit_mult = self.params.get('rabbit_mult', 0.2)\n",
    "        fox_mult = self.params.get('fox_mult', 0.05)\n",
    "        self.reproduce(rabbit_mult,fox_mult,rabbit_pop,fox_pop)\n",
    "        return len(self.agents)\n",
    "    \n",
    "    def add_rabbit(self):\n",
    "        \"\"\"Generates a new random agent.\n",
    "                \n",
    "        returns: new Agent\n",
    "        \"\"\"\n",
    "        new_agent = Rabbit(self.random_loc(), self.params)\n",
    "        self.agents.append(new_agent)\n",
    "        self.occupied.add(new_agent.loc)\n",
    "        return new_agent\n",
    "    \n",
    "    def add_fox(self):\n",
    "        new_agent = Fox(self.random_loc(), self.params)\n",
    "        self.agents.append(new_agent)\n",
    "        self.occupied.add(new_agent.loc)\n",
    "        return new_agent\n",
    "    \n",
    "    def random_loc(self):\n",
    "        \"\"\"Choose a random unoccupied cell.\n",
    "        \n",
    "        returns: tuple coordinates\n",
    "        \"\"\"\n",
    "        while True:\n",
    "            loc = tuple(np.random.randint(self.n, size=2))\n",
    "            if loc not in self.occupied:\n",
    "                return loc"
   ]
  },
  {
   "cell_type": "code",
   "execution_count": 3,
   "metadata": {},
   "outputs": [],
   "source": [
    "class SugarscapeViewer(Cell2DViewer):\n",
    "    \"\"\"Generates visualization and animation of Sugarscape.\"\"\"\n",
    "    \n",
    "    cmap = plt.get_cmap('Greens')\n",
    "    \n",
    "    options = dict(interpolation='none', alpha=0.8,\n",
    "                   vmin=0, vmax=9)\n",
    "    \n",
    "    def draw(self, grid=False):\n",
    "        \"\"\"Draws the array and any other elements.\n",
    "        \n",
    "        grid: boolean, whether to draw grid lines\n",
    "        \"\"\"\n",
    "        self.draw_array(self.viewee.array, origin='lower')\n",
    "        self.draw_agents()\n",
    "\n",
    "    def draw_agents(self):\n",
    "        \"\"\"Plots the agents.\n",
    "        \"\"\"\n",
    "        xs, ys, animals = self.get_coords()\n",
    "        for x, y, animal in zip(xs, ys, animals):\n",
    "            if (animal is Rabbit):\n",
    "                self.points = plt.plot(x, y, '.', color='black')[0]\n",
    "            elif (animal is Fox):\n",
    "                self.points = plt.plot(x, y, '.', color='orange')[0]\n",
    "        \n",
    "    def animate_func(self, i):\n",
    "        \"\"\"Draws one frame of the animation.\"\"\"\n",
    "        Cell2DViewer.animate_func(self, i)\n",
    "        plt.clf()\n",
    "        self.draw()\n",
    "        return self.im, self.points\n",
    "    \n",
    "    def get_coords(self):\n",
    "        \"\"\"Gets the coordinates of the agents.\n",
    "        \n",
    "        Transforms from (row, col) to (x, y).\n",
    "        \n",
    "        returns: tuple of sequences, (xs, ys)\n",
    "        \"\"\"\n",
    "        agents = self.viewee.agents\n",
    "        rows, cols = np.transpose([agent.loc for agent in agents])\n",
    "        animals = []\n",
    "        for agent in agents:\n",
    "            animals.append(type(agent))\n",
    "        xs = cols + 0.5\n",
    "        ys = rows + 0.5\n",
    "        return xs, ys, animals"
   ]
  },
  {
   "cell_type": "code",
   "execution_count": 4,
   "metadata": {},
   "outputs": [],
   "source": [
    "class Agent:\n",
    "    \n",
    "    def __init__(self, loc, params): raise NotImplementedError\n",
    "\n",
    "    def step(self, env): raise NotImplementedError\n",
    "\n",
    "    def is_starving(self): raise NotImplementedError\n",
    "    \n",
    "    def is_old(self): raise NotImplementedError\n",
    "    "
   ]
  },
  {
   "cell_type": "code",
   "execution_count": 5,
   "metadata": {},
   "outputs": [],
   "source": [
    "class Rabbit(Agent):\n",
    "    def __init__(self, loc, params):\n",
    "        \"\"\"Creates a new agent at the given location.\n",
    "        \n",
    "        loc: tuple coordinates\n",
    "        params: dictionary of parameters\n",
    "        \"\"\"\n",
    "        self.loc = tuple(loc)\n",
    "        self.age = 0\n",
    "        \n",
    "        # extract the parameters\n",
    "        min_vision = params.get('min_vision_rabbit', 3)\n",
    "        max_vision = params.get('max_vision_rabbit', 6)\n",
    "        min_metabolism = params.get('min_metabolism_rabbit', 2)\n",
    "        max_metabolism = params.get('max_metabolism_rabbit', 4)\n",
    "        min_lifespan = params.get('min_lifespan', 12)\n",
    "        max_lifespan = params.get('max_lifespan', 24)\n",
    "        min_grass = params.get('min_grass', 5)\n",
    "        max_grass = params.get('max_grass', 25)\n",
    "        \n",
    "        # choose attributes\n",
    "        self.vision = np.random.random_integers(min_vision, max_vision)\n",
    "        self.metabolism = np.random.uniform(min_metabolism, max_metabolism)\n",
    "        self.lifespan = np.random.uniform(min_lifespan, max_lifespan)\n",
    "        self.grass = np.random.uniform(min_grass, max_grass)\n",
    "\n",
    "    def step(self, env):\n",
    "        \"\"\"Look around, move, and harvest.\n",
    "        \n",
    "        env: Sugarscape\n",
    "        \"\"\"\n",
    "        self.loc = env.look_around(self.loc, self.vision, False)\n",
    "        self.grass += env.harvest(self.loc) - self.metabolism\n",
    "        self.age += 1\n",
    "\n",
    "    def is_starving(self):\n",
    "        \"\"\"Checks if grass has gone negative.\"\"\"\n",
    "        return self.grass < 0\n",
    "    \n",
    "    def is_old(self):\n",
    "        \"\"\"Checks if lifespan is exceeded.\"\"\"\n",
    "        return self.age > self.lifespan"
   ]
  },
  {
   "cell_type": "code",
   "execution_count": null,
   "metadata": {},
   "outputs": [],
   "source": [
    "class Fox(Agent):\n",
    "    def __init__(self, loc, params):\n",
    "        \"\"\"Creates a new agent at the given location.\n",
    "        \n",
    "        loc: tuple coordinates\n",
    "        params: dictionary of parameters\n",
    "        \"\"\"\n",
    "        self.loc = tuple(loc)\n",
    "        self.age = 0\n",
    "        \n",
    "        # extract the parameters\n",
    "        min_vision = params.get('min_vision_fox', 15)\n",
    "        max_vision = params.get('max_vision_fox', 25)\n",
    "        min_metabolism = params.get('min_metabolism_fox', 2)\n",
    "        max_metabolism = params.get('max_metabolism_fox', 4)\n",
    "        min_lifespan = params.get('min_lifespan_fox', 24)\n",
    "        max_lifespan = params.get('max_lifespan_fox', 48)\n",
    "        min_rabbit = params.get('min_rabbit', 5)\n",
    "        max_rabbit = params.get('max_rabbit', 25)\n",
    "        \n",
    "        # choose attributes\n",
    "        self.vision = np.random.random_integers(min_vision, max_vision)\n",
    "        self.metabolism = np.random.uniform(min_metabolism, max_metabolism)\n",
    "        self.lifespan = np.random.uniform(min_lifespan, max_lifespan)\n",
    "        self.rabbit = np.random.uniform(min_rabbit, max_rabbit)\n",
    "\n",
    "    def step(self, env):\n",
    "        \"\"\"Look around, move, and harvest.\n",
    "        \n",
    "        env: Sugarscape\n",
    "        \"\"\"\n",
    "        togo = env.look_around(self.loc, self.vision, True)\n",
    "        if (togo is not self.loc):\n",
    "            self.rabbit += env.eat(togo) - self.metabolism\n",
    "            self.loc = togo\n",
    "        self.age += 1\n",
    "\n",
    "    def is_starving(self):\n",
    "        \"\"\"Checks if food has gone negative.\"\"\"\n",
    "        return self.rabbit < 0\n",
    "    \n",
    "    def is_old(self):\n",
    "        \"\"\"Checks if lifespan is exceeded.\"\"\"\n",
    "        return self.age > self.lifespan"
   ]
  },
  {
   "cell_type": "code",
   "execution_count": null,
   "metadata": {},
   "outputs": [],
   "source": [
    "env = Sugarscape(100)\n",
    "viewer = SugarscapeViewer(env)\n",
    "anim = viewer.animate(frames=100)\n",
    "anim"
   ]
  },
  {
   "cell_type": "code",
   "execution_count": 156,
   "metadata": {},
   "outputs": [
    {
     "data": {
      "image/png": "[encoded data removed]",
      "text/plain": [
       "<matplotlib.figure.Figure at 0x7f5fe74fe3c8>"
      ]
     },
     "metadata": {},
     "output_type": "display_data"
    }
   ],
   "source": [
    "thinkplot.plot(env.agent_count_seq)"
   ]
  },
  {
   "cell_type": "code",
   "execution_count": 157,
   "metadata": {},
   "outputs": [
    {
     "data": {
      "image/png": "[encoded data removed]",
      "text/plain": [
       "<matplotlib.figure.Figure at 0x7f5fe6d1a438>"
      ]
     },
     "metadata": {},
     "output_type": "display_data"
    }
   ],
   "source": [
    "thinkplot.plot(env.rabbit_count_seq)"
   ]
  },
  {
   "cell_type": "code",
   "execution_count": 158,
   "metadata": {},
   "outputs": [
    {
     "data": {
      "image/png": "[encoded data removed]",
      "text/plain": [
       "<matplotlib.figure.Figure at 0x7f5fe6b6a4e0>"
      ]
     },
     "metadata": {},
     "output_type": "display_data"
    }
   ],
   "source": [
    "thinkplot.plot(env.fox_count_seq)"
   ]
  },
  {
   "cell_type": "code",
   "execution_count": 159,
   "metadata": {},
   "outputs": [
    {
     "data": {
      "image/png": "[encoded data removed]",
      "text/plain": [
       "<matplotlib.figure.Figure at 0x7f5fe6b524a8>"
      ]
     },
     "metadata": {},
     "output_type": "display_data"
    }
   ],
   "source": [
    "thinkplot.plot(env.grass_count_seq)"
   ]
  },
  {
   "cell_type": "code",
   "execution_count": 143,
   "metadata": {},
   "outputs": [
    {
     "data": {
      "image/png": "[encoded data removed]",
      "text/plain": [
       "<matplotlib.figure.Figure at 0x7f5fe7adb710>"
      ]
     },
     "metadata": {},
     "output_type": "display_data"
    }
   ],
   "source": [
    "viewer.draw()"
   ]
  },
  {
   "cell_type": "code",
   "execution_count": 153,
   "metadata": {},
   "outputs": [
    {
     "data": {
      "image/png": "[encoded data removed]",
      "text/plain": [
       "<matplotlib.figure.Figure at 0x7f5fe7be7780>"
      ]
     },
     "metadata": {},
     "output_type": "display_data"
    }
   ],
   "source": [
    "viewer.step()\n",
    "viewer.draw()"
   ]
  },
  {
   "cell_type": "code",
   "execution_count": null,
   "metadata": {},
   "outputs": [],
   "source": []
  }
 ],
 "metadata": {
  "kernelspec": {
   "display_name": "Python 3",
   "language": "python",
   "name": "python3"
  },
  "language_info": {
   "codemirror_mode": {
    "name": "ipython",
    "version": 3
   },
   "file_extension": ".py",
   "mimetype": "text/x-python",
   "name": "python",
   "nbconvert_exporter": "python",
   "pygments_lexer": "ipython3",
   "version": "3.6.4"
  }
 },
 "nbformat": 4,
 "nbformat_minor": 2
}
